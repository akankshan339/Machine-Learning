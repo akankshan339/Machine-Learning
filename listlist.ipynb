{
 "cells": [
  {
   "cell_type": "code",
   "execution_count": 13,
   "id": "5341207d-fa9b-4203-a817-4f9171345e6c",
   "metadata": {},
   "outputs": [],
   "source": [
    "import numpy as np\n",
    "import pandas as pd"
   ]
  },
  {
   "cell_type": "code",
   "execution_count": 15,
   "id": "dc40648c-3a15-47f9-8c49-676ae3086ed7",
   "metadata": {},
   "outputs": [],
   "source": [
    "data =[\n",
    "    ['gunjan', 20, 90],\n",
    "    ['muskan', 21, 95],\n",
    "    ['akanksha', 22, 98]\n",
    "]"
   ]
  },
  {
   "cell_type": "code",
   "execution_count": 19,
   "id": "47ecc459-8813-45a9-a4c5-b8d00d2cd941",
   "metadata": {},
   "outputs": [],
   "source": [
    "df = pd.DataFrame(data, columns = [\"Name\", \"Age\", \"Marks\"])"
   ]
  },
  {
   "cell_type": "code",
   "execution_count": 21,
   "id": "d46fdb98-1bf3-4a5c-9e14-9716a45a6a76",
   "metadata": {},
   "outputs": [
    {
     "name": "stdout",
     "output_type": "stream",
     "text": [
      "       Name  Age  Marks\n",
      "0    gunjan   20     90\n",
      "1    muskan   21     95\n",
      "2  akanksha   22     98\n"
     ]
    }
   ],
   "source": [
    "print(df)"
   ]
  },
  {
   "cell_type": "code",
   "execution_count": 23,
   "id": "37ee08b6-44b5-4394-9323-ee6d974a5c96",
   "metadata": {},
   "outputs": [],
   "source": [
    "name = np.array([\"ram\", \"shyam\", \"aman\"])"
   ]
  },
  {
   "cell_type": "code",
   "execution_count": null,
   "id": "0187a7f1-b09e-4fee-9fca-bd1708909617",
   "metadata": {},
   "outputs": [],
   "source": []
  }
 ],
 "metadata": {
  "kernelspec": {
   "display_name": "Python 3 (ipykernel)",
   "language": "python",
   "name": "python3"
  },
  "language_info": {
   "codemirror_mode": {
    "name": "ipython",
    "version": 3
   },
   "file_extension": ".py",
   "mimetype": "text/x-python",
   "name": "python",
   "nbconvert_exporter": "python",
   "pygments_lexer": "ipython3",
   "version": "3.12.4"
  }
 },
 "nbformat": 4,
 "nbformat_minor": 5
}
