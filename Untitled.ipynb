{
 "cells": [
  {
   "cell_type": "code",
   "execution_count": 57,
   "id": "cb862f84-ccba-42e8-af8e-8de5ccccfbd1",
   "metadata": {},
   "outputs": [],
   "source": [
    "import numpy as n"
   ]
  },
  {
   "cell_type": "raw",
   "id": "e96c84bd-9516-4f5b-82c6-8aec9300fc55",
   "metadata": {},
   "source": [
    "print(arr)"
   ]
  },
  {
   "cell_type": "raw",
   "id": "4330e3a0-13fe-4174-b8f4-041cf0503751",
   "metadata": {},
   "source": [
    "for i in range(2):"
   ]
  },
  {
   "cell_type": "code",
   "execution_count": null,
   "id": "8092323e-0d45-42e4-ae46-7e5b20d5ed23",
   "metadata": {},
   "outputs": [],
   "source": []
  }
 ],
 "metadata": {
  "kernelspec": {
   "display_name": "Python 3 (ipykernel)",
   "language": "python",
   "name": "python3"
  },
  "language_info": {
   "codemirror_mode": {
    "name": "ipython",
    "version": 3
   },
   "file_extension": ".py",
   "mimetype": "text/x-python",
   "name": "python",
   "nbconvert_exporter": "python",
   "pygments_lexer": "ipython3",
   "version": "3.12.4"
  }
 },
 "nbformat": 4,
 "nbformat_minor": 5
}
